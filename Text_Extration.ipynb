{
 "cells": [
  {
   "cell_type": "code",
   "execution_count": 33,
   "id": "7bb0f76a",
   "metadata": {},
   "outputs": [
    {
     "name": "stderr",
     "output_type": "stream",
     "text": [
      "[nltk_data] Downloading package omw-1.4 to\n",
      "[nltk_data]     C:\\Users\\lilna\\AppData\\Roaming\\nltk_data...\n"
     ]
    },
    {
     "data": {
      "text/plain": [
       "True"
      ]
     },
     "execution_count": 33,
     "metadata": {},
     "output_type": "execute_result"
    }
   ],
   "source": [
    "nltk.download('omw-1.4')"
   ]
  },
  {
   "cell_type": "code",
   "execution_count": 31,
   "id": "893d7079",
   "metadata": {},
   "outputs": [
    {
     "name": "stderr",
     "output_type": "stream",
     "text": [
      "[nltk_data] Downloading package wordnet to\n",
      "[nltk_data]     C:\\Users\\lilna\\AppData\\Roaming\\nltk_data...\n",
      "[nltk_data]   Package wordnet is already up-to-date!\n"
     ]
    }
   ],
   "source": [
    "import pandas as pd\n",
    "import nltk\n",
    "nltk.download('wordnet')\n",
    "from nltk.stem import WordNetLemmatizer"
   ]
  },
  {
   "cell_type": "code",
   "execution_count": 2,
   "id": "1ba71910",
   "metadata": {},
   "outputs": [],
   "source": [
    "df = pd.read_csv(\"./tweets_with_snscrape_20-22.csv\")"
   ]
  },
  {
   "cell_type": "code",
   "execution_count": 3,
   "id": "6430607e",
   "metadata": {},
   "outputs": [
    {
     "data": {
      "text/html": [
       "<div>\n",
       "<style scoped>\n",
       "    .dataframe tbody tr th:only-of-type {\n",
       "        vertical-align: middle;\n",
       "    }\n",
       "\n",
       "    .dataframe tbody tr th {\n",
       "        vertical-align: top;\n",
       "    }\n",
       "\n",
       "    .dataframe thead th {\n",
       "        text-align: right;\n",
       "    }\n",
       "</style>\n",
       "<table border=\"1\" class=\"dataframe\">\n",
       "  <thead>\n",
       "    <tr style=\"text-align: right;\">\n",
       "      <th></th>\n",
       "      <th>Unnamed: 0</th>\n",
       "      <th>Date</th>\n",
       "      <th>User</th>\n",
       "      <th>Tweet</th>\n",
       "    </tr>\n",
       "  </thead>\n",
       "  <tbody>\n",
       "    <tr>\n",
       "      <th>0</th>\n",
       "      <td>0</td>\n",
       "      <td>2022-10-26 14:05:29+00:00</td>\n",
       "      <td>zeroffenders</td>\n",
       "      <td>https://t.co/dXgUDi5fTc\\n\\nA dentist was charg...</td>\n",
       "    </tr>\n",
       "    <tr>\n",
       "      <th>1</th>\n",
       "      <td>1</td>\n",
       "      <td>2022-10-26 12:27:55+00:00</td>\n",
       "      <td>zeroffenders</td>\n",
       "      <td>VIOLADOR:\\nCristian Villalobos \\nOrtodoncista ...</td>\n",
       "    </tr>\n",
       "    <tr>\n",
       "      <th>2</th>\n",
       "      <td>2</td>\n",
       "      <td>2022-10-05 20:47:10+00:00</td>\n",
       "      <td>bottyrubble</td>\n",
       "      <td>#whyididntreport</td>\n",
       "    </tr>\n",
       "    <tr>\n",
       "      <th>3</th>\n",
       "      <td>3</td>\n",
       "      <td>2022-10-01 14:55:08+00:00</td>\n",
       "      <td>AmybeTravelling</td>\n",
       "      <td>@MacFarlaneNews Their friends are trying to mu...</td>\n",
       "    </tr>\n",
       "    <tr>\n",
       "      <th>4</th>\n",
       "      <td>4</td>\n",
       "      <td>2022-09-29 21:45:18+00:00</td>\n",
       "      <td>zeroffenders</td>\n",
       "      <td>https://t.co/rL5hSiXonW\\n\\nMost of Dahmer's vi...</td>\n",
       "    </tr>\n",
       "  </tbody>\n",
       "</table>\n",
       "</div>"
      ],
      "text/plain": [
       "   Unnamed: 0                       Date             User  \\\n",
       "0           0  2022-10-26 14:05:29+00:00     zeroffenders   \n",
       "1           1  2022-10-26 12:27:55+00:00     zeroffenders   \n",
       "2           2  2022-10-05 20:47:10+00:00      bottyrubble   \n",
       "3           3  2022-10-01 14:55:08+00:00  AmybeTravelling   \n",
       "4           4  2022-09-29 21:45:18+00:00     zeroffenders   \n",
       "\n",
       "                                               Tweet  \n",
       "0  https://t.co/dXgUDi5fTc\\n\\nA dentist was charg...  \n",
       "1  VIOLADOR:\\nCristian Villalobos \\nOrtodoncista ...  \n",
       "2                                   #whyididntreport  \n",
       "3  @MacFarlaneNews Their friends are trying to mu...  \n",
       "4  https://t.co/rL5hSiXonW\\n\\nMost of Dahmer's vi...  "
      ]
     },
     "execution_count": 3,
     "metadata": {},
     "output_type": "execute_result"
    }
   ],
   "source": [
    "df.head(5)"
   ]
  },
  {
   "cell_type": "code",
   "execution_count": 8,
   "id": "86db5f2f",
   "metadata": {},
   "outputs": [
    {
     "data": {
      "text/plain": [
       "'https://t.co/dXgUDi5fTc\\n\\nA dentist was charged with rapes of women.\\n\\nFarzam Mehrabi is accused of meeting women through dating apps before drugging them and sexually assaulting them.\\n\\n#metoo #whyididntreport #antofagasta #osorno #rapist #25N https://t.co/z7Ybj76sAj'"
      ]
     },
     "execution_count": 8,
     "metadata": {},
     "output_type": "execute_result"
    }
   ],
   "source": [
    "df.at[0,\"Tweet\"]"
   ]
  },
  {
   "cell_type": "code",
   "execution_count": 23,
   "id": "0b250723",
   "metadata": {},
   "outputs": [],
   "source": [
    "temp = df.at[0,\"Tweet\"]\n",
    "temp = temp.replace(\"\\n\",\" \")"
   ]
  },
  {
   "cell_type": "code",
   "execution_count": 24,
   "id": "74a86f2f",
   "metadata": {},
   "outputs": [],
   "source": [
    "temp_list = temp.split(\" \")"
   ]
  },
  {
   "cell_type": "code",
   "execution_count": 25,
   "id": "adcdb363",
   "metadata": {},
   "outputs": [],
   "source": [
    "temp = \"\"\n",
    "for cn,ele in enumerate(temp_list):\n",
    "    if(ele.startswith(\"https\")):\n",
    "        pass\n",
    "    elif(ele.startswith(\"#\")):\n",
    "        pass\n",
    "    else:\n",
    "        temp += ele + \" \""
   ]
  },
  {
   "cell_type": "code",
   "execution_count": 26,
   "id": "07278c45",
   "metadata": {},
   "outputs": [
    {
     "data": {
      "text/plain": [
       "' A dentist was charged with rapes of women.  Farzam Mehrabi is accused of meeting women through dating apps before drugging them and sexually assaulting them.  '"
      ]
     },
     "execution_count": 26,
     "metadata": {},
     "output_type": "execute_result"
    }
   ],
   "source": [
    "temp"
   ]
  },
  {
   "cell_type": "code",
   "execution_count": 34,
   "id": "4be72a78",
   "metadata": {},
   "outputs": [
    {
     "name": "stdout",
     "output_type": "stream",
     "text": [
      "['A', 'dentist', 'was', 'charged', 'with', 'rapes', 'of', 'women', '.', 'Farzam', 'Mehrabi', 'is', 'accused', 'of', 'meeting', 'women', 'through', 'dating', 'apps', 'before', 'drugging', 'them', 'and', 'sexually', 'assaulting', 'them', '.']\n",
      "A dentist wa charged with rape of woman . Farzam Mehrabi is accused of meeting woman through dating apps before drugging them and sexually assaulting them .\n"
     ]
    }
   ],
   "source": [
    "wnl = WordNetLemmatizer()\n",
    "list2 = nltk.word_tokenize(temp)\n",
    "print(list2)\n",
    "#> ['the', 'cat', 'is', 'sitting', 'with', 'the', 'bats', 'on',\n",
    "#   'the', 'striped', 'mat', 'under', 'many', 'flying', 'geese']\n",
    " \n",
    "lemmatized_string = ' '.join([wnl.lemmatize(words) for words in list2])\n",
    " \n",
    "print(lemmatized_string)  "
   ]
  },
  {
   "cell_type": "code",
   "execution_count": 35,
   "id": "d6550f63",
   "metadata": {},
   "outputs": [
    {
     "data": {
      "text/plain": [
       "(29854, 4)"
      ]
     },
     "execution_count": 35,
     "metadata": {},
     "output_type": "execute_result"
    }
   ],
   "source": [
    "df.shape"
   ]
  },
  {
   "cell_type": "code",
   "execution_count": 37,
   "id": "8a046776",
   "metadata": {},
   "outputs": [
    {
     "name": "stdout",
     "output_type": "stream",
     "text": [
      "<class 'pandas.core.frame.DataFrame'>\n",
      "RangeIndex: 29854 entries, 0 to 29853\n",
      "Data columns (total 4 columns):\n",
      " #   Column      Non-Null Count  Dtype \n",
      "---  ------      --------------  ----- \n",
      " 0   Unnamed: 0  29854 non-null  int64 \n",
      " 1   Date        29854 non-null  object\n",
      " 2   User        29854 non-null  object\n",
      " 3   Tweet       29854 non-null  object\n",
      "dtypes: int64(1), object(3)\n",
      "memory usage: 933.1+ KB\n"
     ]
    }
   ],
   "source": [
    "df.info()"
   ]
  },
  {
   "cell_type": "code",
   "execution_count": 39,
   "id": "1f0acb4f",
   "metadata": {},
   "outputs": [
    {
     "data": {
      "text/html": [
       "<div>\n",
       "<style scoped>\n",
       "    .dataframe tbody tr th:only-of-type {\n",
       "        vertical-align: middle;\n",
       "    }\n",
       "\n",
       "    .dataframe tbody tr th {\n",
       "        vertical-align: top;\n",
       "    }\n",
       "\n",
       "    .dataframe thead th {\n",
       "        text-align: right;\n",
       "    }\n",
       "</style>\n",
       "<table border=\"1\" class=\"dataframe\">\n",
       "  <thead>\n",
       "    <tr style=\"text-align: right;\">\n",
       "      <th></th>\n",
       "      <th>Unnamed: 0</th>\n",
       "    </tr>\n",
       "  </thead>\n",
       "  <tbody>\n",
       "    <tr>\n",
       "      <th>count</th>\n",
       "      <td>29854.000000</td>\n",
       "    </tr>\n",
       "    <tr>\n",
       "      <th>mean</th>\n",
       "      <td>14926.500000</td>\n",
       "    </tr>\n",
       "    <tr>\n",
       "      <th>std</th>\n",
       "      <td>8618.251805</td>\n",
       "    </tr>\n",
       "    <tr>\n",
       "      <th>min</th>\n",
       "      <td>0.000000</td>\n",
       "    </tr>\n",
       "    <tr>\n",
       "      <th>25%</th>\n",
       "      <td>7463.250000</td>\n",
       "    </tr>\n",
       "    <tr>\n",
       "      <th>50%</th>\n",
       "      <td>14926.500000</td>\n",
       "    </tr>\n",
       "    <tr>\n",
       "      <th>75%</th>\n",
       "      <td>22389.750000</td>\n",
       "    </tr>\n",
       "    <tr>\n",
       "      <th>max</th>\n",
       "      <td>29853.000000</td>\n",
       "    </tr>\n",
       "  </tbody>\n",
       "</table>\n",
       "</div>"
      ],
      "text/plain": [
       "         Unnamed: 0\n",
       "count  29854.000000\n",
       "mean   14926.500000\n",
       "std     8618.251805\n",
       "min        0.000000\n",
       "25%     7463.250000\n",
       "50%    14926.500000\n",
       "75%    22389.750000\n",
       "max    29853.000000"
      ]
     },
     "execution_count": 39,
     "metadata": {},
     "output_type": "execute_result"
    }
   ],
   "source": [
    "df.describe()"
   ]
  },
  {
   "cell_type": "code",
   "execution_count": null,
   "id": "92af3ff8",
   "metadata": {},
   "outputs": [],
   "source": []
  }
 ],
 "metadata": {
  "kernelspec": {
   "display_name": "Python 3 (ipykernel)",
   "language": "python",
   "name": "python3"
  },
  "language_info": {
   "codemirror_mode": {
    "name": "ipython",
    "version": 3
   },
   "file_extension": ".py",
   "mimetype": "text/x-python",
   "name": "python",
   "nbconvert_exporter": "python",
   "pygments_lexer": "ipython3",
   "version": "3.10.4"
  }
 },
 "nbformat": 4,
 "nbformat_minor": 5
}
