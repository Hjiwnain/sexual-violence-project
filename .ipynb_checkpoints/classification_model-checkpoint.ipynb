{
 "cells": [
  {
   "cell_type": "code",
   "execution_count": 17,
   "metadata": {},
   "outputs": [],
   "source": [
    "#for data manipulation\n",
    "import pandas as pd\n",
    "import numpy as np\n",
    "\n",
    "#for text pre-processing\n",
    "import re, string\n",
    "import nltk\n",
    "from nltk.tokenize import word_tokenize\n",
    "from nltk.corpus import stopwords\n",
    "from nltk.tokenize import word_tokenize\n",
    "from nltk.stem import SnowballStemmer\n",
    "from nltk.corpus import wordnet\n",
    "from nltk.stem import WordNetLemmatizer\n",
    "# nltk.download('punkt')\n",
    "# nltk.download('averaged_perceptron_tagger')\n",
    "# nltk.download('wordnet')\n",
    "\n",
    "#for model-building\n",
    "from sklearn.model_selection import train_test_split\n",
    "from sklearn.linear_model import LogisticRegression\n",
    "from sklearn.naive_bayes import MultinomialNB\n",
    "from sklearn.metrics import classification_report, f1_score, accuracy_score, confusion_matrix\n",
    "from sklearn.metrics import roc_curve, auc, roc_auc_score\n",
    "\n",
    "# bag of words\n",
    "from sklearn.feature_extraction.text import TfidfVectorizer\n",
    "from sklearn.feature_extraction.text import CountVectorizer\n",
    "\n",
    "#for word embedding\n",
    "import gensim\n",
    "from gensim.models import Word2Vec"
   ]
  },
  {
   "cell_type": "code",
   "execution_count": 18,
   "metadata": {},
   "outputs": [
    {
     "data": {
      "text/html": [
       "<div>\n",
       "<style scoped>\n",
       "    .dataframe tbody tr th:only-of-type {\n",
       "        vertical-align: middle;\n",
       "    }\n",
       "\n",
       "    .dataframe tbody tr th {\n",
       "        vertical-align: top;\n",
       "    }\n",
       "\n",
       "    .dataframe thead th {\n",
       "        text-align: right;\n",
       "    }\n",
       "</style>\n",
       "<table border=\"1\" class=\"dataframe\">\n",
       "  <thead>\n",
       "    <tr style=\"text-align: right;\">\n",
       "      <th></th>\n",
       "      <th>Unnamed: 0</th>\n",
       "    </tr>\n",
       "  </thead>\n",
       "  <tbody>\n",
       "    <tr>\n",
       "      <th>count</th>\n",
       "      <td>29854.000000</td>\n",
       "    </tr>\n",
       "    <tr>\n",
       "      <th>mean</th>\n",
       "      <td>14926.500000</td>\n",
       "    </tr>\n",
       "    <tr>\n",
       "      <th>std</th>\n",
       "      <td>8618.251805</td>\n",
       "    </tr>\n",
       "    <tr>\n",
       "      <th>min</th>\n",
       "      <td>0.000000</td>\n",
       "    </tr>\n",
       "    <tr>\n",
       "      <th>25%</th>\n",
       "      <td>7463.250000</td>\n",
       "    </tr>\n",
       "    <tr>\n",
       "      <th>50%</th>\n",
       "      <td>14926.500000</td>\n",
       "    </tr>\n",
       "    <tr>\n",
       "      <th>75%</th>\n",
       "      <td>22389.750000</td>\n",
       "    </tr>\n",
       "    <tr>\n",
       "      <th>max</th>\n",
       "      <td>29853.000000</td>\n",
       "    </tr>\n",
       "  </tbody>\n",
       "</table>\n",
       "</div>"
      ],
      "text/plain": [
       "         Unnamed: 0\n",
       "count  29854.000000\n",
       "mean   14926.500000\n",
       "std     8618.251805\n",
       "min        0.000000\n",
       "25%     7463.250000\n",
       "50%    14926.500000\n",
       "75%    22389.750000\n",
       "max    29853.000000"
      ]
     },
     "execution_count": 18,
     "metadata": {},
     "output_type": "execute_result"
    }
   ],
   "source": [
    "#reading in the data\n",
    "originalDataset = pd.read_csv('whyididntreport_tweets.csv')\n",
    "\n",
    "#get a high-level overview of the data set\n",
    "originalDataset.describe()"
   ]
  },
  {
   "cell_type": "code",
   "execution_count": 19,
   "metadata": {},
   "outputs": [
    {
     "data": {
      "text/plain": [
       "False    29854\n",
       "dtype: int64"
      ]
     },
     "execution_count": 19,
     "metadata": {},
     "output_type": "execute_result"
    }
   ],
   "source": [
    "#check if there are duplicates in the data set\n",
    "originalDataset.duplicated().value_counts()"
   ]
  },
  {
   "cell_type": "code",
   "execution_count": 20,
   "metadata": {},
   "outputs": [
    {
     "data": {
      "text/html": [
       "<div>\n",
       "<style scoped>\n",
       "    .dataframe tbody tr th:only-of-type {\n",
       "        vertical-align: middle;\n",
       "    }\n",
       "\n",
       "    .dataframe tbody tr th {\n",
       "        vertical-align: top;\n",
       "    }\n",
       "\n",
       "    .dataframe thead th {\n",
       "        text-align: right;\n",
       "    }\n",
       "</style>\n",
       "<table border=\"1\" class=\"dataframe\">\n",
       "  <thead>\n",
       "    <tr style=\"text-align: right;\">\n",
       "      <th></th>\n",
       "      <th>Unnamed: 0</th>\n",
       "      <th>Date</th>\n",
       "      <th>User</th>\n",
       "      <th>Tweet</th>\n",
       "    </tr>\n",
       "  </thead>\n",
       "  <tbody>\n",
       "    <tr>\n",
       "      <th>0</th>\n",
       "      <td>0</td>\n",
       "      <td>2022-10-26 14:05:29+00:00</td>\n",
       "      <td>zeroffenders</td>\n",
       "      <td>https://t.co/dXgUDi5fTc\\n\\nA dentist was charg...</td>\n",
       "    </tr>\n",
       "    <tr>\n",
       "      <th>1</th>\n",
       "      <td>1</td>\n",
       "      <td>2022-10-26 12:27:55+00:00</td>\n",
       "      <td>zeroffenders</td>\n",
       "      <td>VIOLADOR:\\nCristian Villalobos \\nOrtodoncista ...</td>\n",
       "    </tr>\n",
       "    <tr>\n",
       "      <th>2</th>\n",
       "      <td>2</td>\n",
       "      <td>2022-10-05 20:47:10+00:00</td>\n",
       "      <td>bottyrubble</td>\n",
       "      <td>#whyididntreport</td>\n",
       "    </tr>\n",
       "    <tr>\n",
       "      <th>3</th>\n",
       "      <td>3</td>\n",
       "      <td>2022-10-01 14:55:08+00:00</td>\n",
       "      <td>AmybeTravelling</td>\n",
       "      <td>@MacFarlaneNews Their friends are trying to mu...</td>\n",
       "    </tr>\n",
       "    <tr>\n",
       "      <th>4</th>\n",
       "      <td>4</td>\n",
       "      <td>2022-09-29 21:45:18+00:00</td>\n",
       "      <td>zeroffenders</td>\n",
       "      <td>https://t.co/rL5hSiXonW\\n\\nMost of Dahmer's vi...</td>\n",
       "    </tr>\n",
       "    <tr>\n",
       "      <th>5</th>\n",
       "      <td>5</td>\n",
       "      <td>2022-09-24 08:07:15+00:00</td>\n",
       "      <td>bottyrubble</td>\n",
       "      <td>#whyididntreport</td>\n",
       "    </tr>\n",
       "    <tr>\n",
       "      <th>6</th>\n",
       "      <td>6</td>\n",
       "      <td>2022-09-22 16:34:57+00:00</td>\n",
       "      <td>zeroffenders</td>\n",
       "      <td>https://t.co/k54a6A5ZEP\\n\\nA dentist was arres...</td>\n",
       "    </tr>\n",
       "    <tr>\n",
       "      <th>7</th>\n",
       "      <td>7</td>\n",
       "      <td>2022-09-19 23:19:36+00:00</td>\n",
       "      <td>AmybeTravelling</td>\n",
       "      <td>@WillAttig @3vil_qu33n @Christinegitti6 Can i ...</td>\n",
       "    </tr>\n",
       "    <tr>\n",
       "      <th>8</th>\n",
       "      <td>8</td>\n",
       "      <td>2022-09-14 15:20:53+00:00</td>\n",
       "      <td>zeroffenders</td>\n",
       "      <td>https://t.co/64cGfGu81D\\n\\nDentist Emad Fathy ...</td>\n",
       "    </tr>\n",
       "    <tr>\n",
       "      <th>9</th>\n",
       "      <td>9</td>\n",
       "      <td>2022-09-12 21:44:26+00:00</td>\n",
       "      <td>zeroffenders</td>\n",
       "      <td>El atraso en el kit de violación significó que...</td>\n",
       "    </tr>\n",
       "  </tbody>\n",
       "</table>\n",
       "</div>"
      ],
      "text/plain": [
       "   Unnamed: 0                       Date             User  \\\n",
       "0           0  2022-10-26 14:05:29+00:00     zeroffenders   \n",
       "1           1  2022-10-26 12:27:55+00:00     zeroffenders   \n",
       "2           2  2022-10-05 20:47:10+00:00      bottyrubble   \n",
       "3           3  2022-10-01 14:55:08+00:00  AmybeTravelling   \n",
       "4           4  2022-09-29 21:45:18+00:00     zeroffenders   \n",
       "5           5  2022-09-24 08:07:15+00:00      bottyrubble   \n",
       "6           6  2022-09-22 16:34:57+00:00     zeroffenders   \n",
       "7           7  2022-09-19 23:19:36+00:00  AmybeTravelling   \n",
       "8           8  2022-09-14 15:20:53+00:00     zeroffenders   \n",
       "9           9  2022-09-12 21:44:26+00:00     zeroffenders   \n",
       "\n",
       "                                               Tweet  \n",
       "0  https://t.co/dXgUDi5fTc\\n\\nA dentist was charg...  \n",
       "1  VIOLADOR:\\nCristian Villalobos \\nOrtodoncista ...  \n",
       "2                                   #whyididntreport  \n",
       "3  @MacFarlaneNews Their friends are trying to mu...  \n",
       "4  https://t.co/rL5hSiXonW\\n\\nMost of Dahmer's vi...  \n",
       "5                                   #whyididntreport  \n",
       "6  https://t.co/k54a6A5ZEP\\n\\nA dentist was arres...  \n",
       "7  @WillAttig @3vil_qu33n @Christinegitti6 Can i ...  \n",
       "8  https://t.co/64cGfGu81D\\n\\nDentist Emad Fathy ...  \n",
       "9  El atraso en el kit de violación significó que...  "
      ]
     },
     "execution_count": 20,
     "metadata": {},
     "output_type": "execute_result"
    }
   ],
   "source": [
    "#view the first 50 rows in the data set\n",
    "originalDataset.head(10)"
   ]
  },
  {
   "cell_type": "code",
   "execution_count": 21,
   "metadata": {},
   "outputs": [
    {
     "data": {
      "text/plain": [
       "0    https://t.co/dXgUDi5fTc\\n\\nA dentist was charg...\n",
       "1    VIOLADOR:\\nCristian Villalobos \\nOrtodoncista ...\n",
       "2                                     #whyididntreport\n",
       "3    @MacFarlaneNews Their friends are trying to mu...\n",
       "4    https://t.co/rL5hSiXonW\\n\\nMost of Dahmer's vi...\n",
       "Name: Tweet, dtype: object"
      ]
     },
     "execution_count": 21,
     "metadata": {},
     "output_type": "execute_result"
    }
   ],
   "source": [
    "#get only the tweets from the data set\n",
    "tweets = originalDataset['Tweet']\n",
    "\n",
    "#view the top 5 tweets\n",
    "tweets.head(5)"
   ]
  },
  {
   "cell_type": "code",
   "execution_count": null,
   "metadata": {},
   "outputs": [],
   "source": []
  }
 ],
 "metadata": {
  "kernelspec": {
   "display_name": "Python 3 (ipykernel)",
   "language": "python",
   "name": "python3"
  },
  "language_info": {
   "codemirror_mode": {
    "name": "ipython",
    "version": 3
   },
   "file_extension": ".py",
   "mimetype": "text/x-python",
   "name": "python",
   "nbconvert_exporter": "python",
   "pygments_lexer": "ipython3",
   "version": "3.10.4"
  },
  "vscode": {
   "interpreter": {
    "hash": "6456ef902a83d3bddfd9575ca68b9cc7d91e29f3e6e4e256aceb56343e2f29f5"
   }
  }
 },
 "nbformat": 4,
 "nbformat_minor": 2
}
